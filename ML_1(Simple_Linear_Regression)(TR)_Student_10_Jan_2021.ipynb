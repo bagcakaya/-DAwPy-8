{
  "cells": [
    {
      "cell_type": "markdown",
      "metadata": {
        "id": "view-in-github",
        "colab_type": "text"
      },
      "source": [
        "<a href=\"https://colab.research.google.com/github/bagcakaya/-DAwPy-8/blob/main/ML_1(Simple_Linear_Regression)(TR)_Student_10_Jan_2021.ipynb\" target=\"_parent\"><img src=\"https://colab.research.google.com/assets/colab-badge.svg\" alt=\"Open In Colab\"/></a>"
      ]
    },
    {
      "cell_type": "markdown",
      "id": "vocational-shopper",
      "metadata": {
        "id": "vocational-shopper"
      },
      "source": [
        "# Simple Linear Regression - Supervised Model"
      ]
    },
    {
      "cell_type": "markdown",
      "id": "lesbian-fluid",
      "metadata": {
        "id": "lesbian-fluid"
      },
      "source": [
        "## Import Library"
      ]
    },
    {
      "cell_type": "code",
      "execution_count": 1,
      "id": "bottom-parish",
      "metadata": {
        "id": "bottom-parish"
      },
      "outputs": [],
      "source": [
        "import numpy as np\n",
        "import pandas as pd\n",
        "import matplotlib.pyplot as plt\n",
        "import seaborn as sns\n",
        "import scipy.stats as stats\n",
        "plt.rcParams[\"figure.figsize\"] = (10,6)\n",
        "import warnings\n",
        "warnings.filterwarnings('ignore')"
      ]
    },
    {
      "cell_type": "markdown",
      "id": "thick-anderson",
      "metadata": {
        "id": "thick-anderson"
      },
      "source": [
        "## Read Dataset"
      ]
    },
    {
      "cell_type": "code",
      "execution_count": null,
      "id": "5545c0d3",
      "metadata": {
        "id": "5545c0d3"
      },
      "outputs": [],
      "source": [
        ""
      ]
    },
    {
      "cell_type": "code",
      "execution_count": null,
      "id": "6b964916",
      "metadata": {
        "id": "6b964916"
      },
      "outputs": [],
      "source": [
        ""
      ]
    },
    {
      "cell_type": "markdown",
      "id": "854f7be2",
      "metadata": {
        "id": "854f7be2"
      },
      "source": [
        "independent variable = feature = estimator = attribute = input\n",
        "\n",
        "dependent variable   = target  = label     = output\n",
        "\n",
        "rows = observation, sample\n",
        "\n",
        "**features** = TV + radio + newspaper\n",
        "\n",
        "**target** = sales"
      ]
    },
    {
      "cell_type": "code",
      "execution_count": null,
      "id": "53641a34",
      "metadata": {
        "id": "53641a34"
      },
      "outputs": [],
      "source": [
        ""
      ]
    },
    {
      "cell_type": "code",
      "execution_count": null,
      "id": "0ab953b7",
      "metadata": {
        "id": "0ab953b7"
      },
      "outputs": [],
      "source": [
        ""
      ]
    },
    {
      "cell_type": "markdown",
      "id": "spectacular-algebra",
      "metadata": {
        "id": "spectacular-algebra"
      },
      "source": [
        "## Create new independent variable (feature)"
      ]
    },
    {
      "cell_type": "code",
      "execution_count": null,
      "id": "aacaad68",
      "metadata": {
        "id": "aacaad68"
      },
      "outputs": [],
      "source": [
        ""
      ]
    },
    {
      "cell_type": "code",
      "execution_count": null,
      "id": "fffefb03",
      "metadata": {
        "id": "fffefb03"
      },
      "outputs": [],
      "source": [
        ""
      ]
    },
    {
      "cell_type": "markdown",
      "id": "funky-joseph",
      "metadata": {
        "id": "funky-joseph"
      },
      "source": [
        "## Which feature is more suitable for linear regression?"
      ]
    },
    {
      "cell_type": "code",
      "execution_count": null,
      "id": "f07ad926",
      "metadata": {
        "id": "f07ad926"
      },
      "outputs": [],
      "source": [
        ""
      ]
    },
    {
      "cell_type": "code",
      "execution_count": null,
      "id": "08a29847",
      "metadata": {
        "id": "08a29847"
      },
      "outputs": [],
      "source": [
        ""
      ]
    },
    {
      "cell_type": "markdown",
      "id": "regulation-steering",
      "metadata": {
        "id": "regulation-steering"
      },
      "source": [
        "## Plotting the relationship between independent variable and dependent variable "
      ]
    },
    {
      "cell_type": "code",
      "execution_count": null,
      "id": "5f3ccd93",
      "metadata": {
        "id": "5f3ccd93"
      },
      "outputs": [],
      "source": [
        ""
      ]
    },
    {
      "cell_type": "code",
      "execution_count": null,
      "id": "a6dffa97",
      "metadata": {
        "id": "a6dffa97"
      },
      "outputs": [],
      "source": [
        ""
      ]
    },
    {
      "cell_type": "markdown",
      "id": "operational-target",
      "metadata": {
        "id": "operational-target"
      },
      "source": [
        "## Correlation between independent variable and dependent variable"
      ]
    },
    {
      "cell_type": "code",
      "execution_count": null,
      "id": "1050e5a3",
      "metadata": {
        "id": "1050e5a3"
      },
      "outputs": [],
      "source": [
        ""
      ]
    },
    {
      "cell_type": "code",
      "execution_count": null,
      "id": "b5dc0def",
      "metadata": {
        "id": "b5dc0def"
      },
      "outputs": [],
      "source": [
        ""
      ]
    },
    {
      "cell_type": "markdown",
      "id": "adolescent-mongolia",
      "metadata": {
        "id": "adolescent-mongolia"
      },
      "source": [
        "## Coefficient of determination (R2)"
      ]
    },
    {
      "cell_type": "code",
      "execution_count": null,
      "id": "4637050d",
      "metadata": {
        "id": "4637050d"
      },
      "outputs": [],
      "source": [
        ""
      ]
    },
    {
      "cell_type": "markdown",
      "id": "046a6777",
      "metadata": {
        "id": "046a6777"
      },
      "source": [
        "A house price ----> 50.000 USD\n",
        "\n",
        "B house price ----> 60.000 USD\n",
        "\n",
        "\n",
        "A house ----> 2+1\n",
        "\n",
        "B house ----> 3+1\n",
        "\n",
        "\n",
        "If 3,000 USD of the variation in house prices is due to the number of rooms in the houses, what is the Coefficient of determination (R2) of the number of rooms?\n",
        "\n",
        "### R2_score for the number of rooms in the houses\n",
        "\n",
        "r2_score = 3000 / (60000-50000)\n",
        "\n",
        "r2_score = 0.3"
      ]
    },
    {
      "cell_type": "markdown",
      "id": "4ad2afd7",
      "metadata": {
        "id": "4ad2afd7"
      },
      "source": [
        "## Linear Regression"
      ]
    },
    {
      "cell_type": "code",
      "execution_count": null,
      "id": "39bd6c8a",
      "metadata": {
        "id": "39bd6c8a"
      },
      "outputs": [],
      "source": [
        ""
      ]
    },
    {
      "cell_type": "code",
      "execution_count": null,
      "id": "a6239ff6",
      "metadata": {
        "id": "a6239ff6"
      },
      "outputs": [],
      "source": [
        ""
      ]
    },
    {
      "cell_type": "markdown",
      "id": "perfect-setting",
      "metadata": {
        "id": "perfect-setting"
      },
      "source": [
        "## Splitting the dataset into X(independent variables) and y (dependent variable)"
      ]
    },
    {
      "cell_type": "code",
      "execution_count": null,
      "id": "textile-scholar",
      "metadata": {
        "id": "textile-scholar"
      },
      "outputs": [],
      "source": [
        "# y_pred = b1X + b0"
      ]
    },
    {
      "cell_type": "code",
      "execution_count": null,
      "id": "ca5d3af8",
      "metadata": {
        "id": "ca5d3af8"
      },
      "outputs": [],
      "source": [
        ""
      ]
    },
    {
      "cell_type": "code",
      "execution_count": null,
      "id": "serial-feedback",
      "metadata": {
        "id": "serial-feedback"
      },
      "outputs": [],
      "source": [
        ""
      ]
    },
    {
      "cell_type": "markdown",
      "id": "printable-exhaust",
      "metadata": {
        "id": "printable-exhaust"
      },
      "source": [
        "## Determination of coefficients (slope and intercept)"
      ]
    },
    {
      "cell_type": "code",
      "execution_count": null,
      "id": "87b43b27",
      "metadata": {
        "id": "87b43b27"
      },
      "outputs": [],
      "source": [
        ""
      ]
    },
    {
      "cell_type": "code",
      "execution_count": null,
      "id": "68c84193",
      "metadata": {
        "id": "68c84193"
      },
      "outputs": [],
      "source": [
        ""
      ]
    },
    {
      "cell_type": "markdown",
      "id": "environmental-platform",
      "metadata": {
        "id": "environmental-platform"
      },
      "source": [
        "## Why do we use the least squares error method to find the regression line that best fits the data?"
      ]
    },
    {
      "cell_type": "code",
      "execution_count": null,
      "id": "04f559e3",
      "metadata": {
        "id": "04f559e3"
      },
      "outputs": [],
      "source": [
        ""
      ]
    },
    {
      "cell_type": "code",
      "execution_count": null,
      "id": "a2bc95af",
      "metadata": {
        "id": "a2bc95af"
      },
      "outputs": [],
      "source": [
        ""
      ]
    },
    {
      "cell_type": "code",
      "execution_count": null,
      "id": "metropolitan-stretch",
      "metadata": {
        "id": "metropolitan-stretch"
      },
      "outputs": [],
      "source": [
        ""
      ]
    },
    {
      "cell_type": "markdown",
      "id": "steady-desktop",
      "metadata": {
        "id": "steady-desktop"
      },
      "source": [
        "## Prediction with simple linear regression"
      ]
    },
    {
      "cell_type": "code",
      "execution_count": null,
      "id": "4cff7f60",
      "metadata": {
        "id": "4cff7f60"
      },
      "outputs": [],
      "source": [
        ""
      ]
    },
    {
      "cell_type": "code",
      "execution_count": null,
      "id": "85a4cf05",
      "metadata": {
        "id": "85a4cf05"
      },
      "outputs": [],
      "source": [
        ""
      ]
    },
    {
      "cell_type": "markdown",
      "id": "curious-kinase",
      "metadata": {
        "id": "curious-kinase"
      },
      "source": [
        "## How can we improve our predictions?"
      ]
    },
    {
      "cell_type": "code",
      "execution_count": null,
      "id": "noticed-indication",
      "metadata": {
        "id": "noticed-indication"
      },
      "outputs": [],
      "source": [
        ""
      ]
    }
  ],
  "metadata": {
    "kernelspec": {
      "display_name": "Python 3 (ipykernel)",
      "language": "python",
      "name": "python3"
    },
    "language_info": {
      "codemirror_mode": {
        "name": "ipython",
        "version": 3
      },
      "file_extension": ".py",
      "mimetype": "text/x-python",
      "name": "python",
      "nbconvert_exporter": "python",
      "pygments_lexer": "ipython3",
      "version": "3.7.9"
    },
    "colab": {
      "name": "ML-1(Simple Linear Regression)(TR) Student-10 Jan 2021.ipynb",
      "provenance": [],
      "include_colab_link": true
    }
  },
  "nbformat": 4,
  "nbformat_minor": 5
}